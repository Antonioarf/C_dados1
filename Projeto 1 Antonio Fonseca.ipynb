{
 "cells": [
  {
   "cell_type": "markdown",
   "metadata": {},
   "source": [
    "# Projeto 1 - Ciência dos Dados"
   ]
  },
  {
   "cell_type": "markdown",
   "metadata": {},
   "source": [
    "### Nome: Antonio Fonseca"
   ]
  },
  {
   "cell_type": "markdown",
   "metadata": {},
   "source": [
    "## Pergunta (s) a ser respondida"
   ]
  },
  {
   "cell_type": "markdown",
   "metadata": {},
   "source": [
    "Ex.: "
   ]
  },
  {
   "cell_type": "markdown",
   "metadata": {},
   "source": [
    "## Explicação da hipótese e mecanismo"
   ]
  },
  {
   "cell_type": "markdown",
   "metadata": {},
   "source": [
    "Em um cenario ideal, com o investimento na industrializacao dos paises membros do Brics, o aumento no consumo de recursos naturais deveria ser mais lendo do que no restante do mundo. \n",
    "\n",
    "Para comprovar ou negar a hipotese original, irei contrapor dados globais e dos paises membros do grupo em dois fatores: porcentagem da terra ainda preservado com floresta, e a importancia na agricultura no PIB. A principio ambas as grandezas deverão diminuir, porém a segunda em taxa maior que a primeira"
   ]
  },
  {
   "cell_type": "markdown",
   "metadata": {},
   "source": [
    "## Bases de dados usadas"
   ]
  },
  {
   "cell_type": "markdown",
   "metadata": {},
   "source": [
    "Todas as bases de dados utilizadas para este trabalho foram retiradas do link: https://www.gapminder.org/data/ estando denominadas pelo provedor como \"Forest Cover\" (https://www.fao.org/forestry/sofo/en/) e \"Agriculture (% of GDP)\" (https://data.worldbank.org/indicator/NV.AGR.TOTL.ZS)"
   ]
  },
  {
   "cell_type": "markdown",
   "metadata": {},
   "source": [
    "## Análise de dados"
   ]
  },
  {
   "cell_type": "code",
   "execution_count": 1,
   "metadata": {},
   "outputs": [
    {
     "name": "stdout",
     "output_type": "stream",
     "text": [
      "C:\\Users\\Antonio Fonseca\\Desktop\\Insper\\2 SEMESTRE INSPER\\Ciencia dos dados\\New folder\\C_dados1\n"
     ]
    }
   ],
   "source": [
    "import os\n",
    "import pandas as pd\n",
    "import numpy as np\n",
    "import matplotlib.pyplot as plt\n",
    "dados_mata = pd.read_excel('forest_coverage_percent.xlsx')\n",
    "dados_agri = pd.read_excel('agriculture_percent_of_gdp.xlsx')\n",
    "print(os.getcwd())"
   ]
  },
  {
   "cell_type": "markdown",
   "metadata": {},
   "source": [
    "Agora é necessario limpar cada um dos arquivos, começando pelo quediz respeito a area de florestas, que será referenciado como mata_, o crecimento urbano como cres_ e o papel da agricultura como agri_, sendo todos seguidos com diferentes variações dependendo da etapa "
   ]
  },
  {
   "cell_type": "code",
   "execution_count": 2,
   "metadata": {},
   "outputs": [],
   "source": [
    "mata_index = dados_mata.set_index('country')\n",
    "agri_index = dados_agri.set_index('country')"
   ]
  },
  {
   "cell_type": "code",
   "execution_count": 3,
   "metadata": {},
   "outputs": [],
   "source": [
    "Brics = ['Brazil','Russia', 'India', 'China', 'South Africa']\n",
    "mata_index.loc[:,\"BRICS\"] = \"não\"\n",
    "mata_index.loc[Brics, \"BRICS\"] = \"sim\""
   ]
  },
  {
   "cell_type": "code",
   "execution_count": 4,
   "metadata": {},
   "outputs": [
    {
     "data": {
      "text/html": [
       "<div>\n",
       "<style scoped>\n",
       "    .dataframe tbody tr th:only-of-type {\n",
       "        vertical-align: middle;\n",
       "    }\n",
       "\n",
       "    .dataframe tbody tr th {\n",
       "        vertical-align: top;\n",
       "    }\n",
       "\n",
       "    .dataframe thead th {\n",
       "        text-align: right;\n",
       "    }\n",
       "</style>\n",
       "<table border=\"1\" class=\"dataframe\">\n",
       "  <thead>\n",
       "    <tr style=\"text-align: right;\">\n",
       "      <th></th>\n",
       "      <th>1990</th>\n",
       "      <th>2011</th>\n",
       "      <th>2015</th>\n",
       "      <th>BRICS</th>\n",
       "    </tr>\n",
       "    <tr>\n",
       "      <th>country</th>\n",
       "      <th></th>\n",
       "      <th></th>\n",
       "      <th></th>\n",
       "      <th></th>\n",
       "    </tr>\n",
       "  </thead>\n",
       "  <tbody>\n",
       "    <tr>\n",
       "      <th>Afghanistan</th>\n",
       "      <td>2.07</td>\n",
       "      <td>2.07</td>\n",
       "      <td>2.07</td>\n",
       "      <td>não</td>\n",
       "    </tr>\n",
       "    <tr>\n",
       "      <th>Albania</th>\n",
       "      <td>28.80</td>\n",
       "      <td>28.30</td>\n",
       "      <td>28.20</td>\n",
       "      <td>não</td>\n",
       "    </tr>\n",
       "    <tr>\n",
       "      <th>Algeria</th>\n",
       "      <td>0.70</td>\n",
       "      <td>0.81</td>\n",
       "      <td>0.82</td>\n",
       "      <td>não</td>\n",
       "    </tr>\n",
       "    <tr>\n",
       "      <th>Andorra</th>\n",
       "      <td>34.00</td>\n",
       "      <td>34.00</td>\n",
       "      <td>34.00</td>\n",
       "      <td>não</td>\n",
       "    </tr>\n",
       "    <tr>\n",
       "      <th>Angola</th>\n",
       "      <td>48.90</td>\n",
       "      <td>46.80</td>\n",
       "      <td>46.40</td>\n",
       "      <td>não</td>\n",
       "    </tr>\n",
       "  </tbody>\n",
       "</table>\n",
       "</div>"
      ],
      "text/plain": [
       "              1990   2011   2015 BRICS\n",
       "country                               \n",
       "Afghanistan   2.07   2.07   2.07   não\n",
       "Albania      28.80  28.30  28.20   não\n",
       "Algeria       0.70   0.81   0.82   não\n",
       "Andorra      34.00  34.00  34.00   não\n",
       "Angola       48.90  46.80  46.40   não"
      ]
     },
     "execution_count": 4,
     "metadata": {},
     "output_type": "execute_result"
    }
   ],
   "source": [
    "for e in range(20):\n",
    "    mata_index = mata_index.drop(mata_index.columns[1], axis = 1)\n",
    "\n",
    "mata_index = mata_index.drop(mata_index.columns[2], axis = 1)\n",
    "mata_index = mata_index.drop(mata_index.columns[2], axis = 1)\n",
    "mata_certo = mata_index.drop(mata_index.columns[2], axis = 1)\n",
    "\n",
    "mata_certo.head()"
   ]
  },
  {
   "cell_type": "code",
   "execution_count": 5,
   "metadata": {},
   "outputs": [],
   "source": [
    "Brics = ['Brazil','Russia', 'India', 'China', 'South Africa']\n",
    "agri_index.loc[:,\"BRICS\"] = \"não\"\n",
    "agri_index.loc[Brics, \"BRICS\"] = \"sim\""
   ]
  },
  {
   "cell_type": "code",
   "execution_count": 6,
   "metadata": {},
   "outputs": [
    {
     "data": {
      "text/html": [
       "<div>\n",
       "<style scoped>\n",
       "    .dataframe tbody tr th:only-of-type {\n",
       "        vertical-align: middle;\n",
       "    }\n",
       "\n",
       "    .dataframe tbody tr th {\n",
       "        vertical-align: top;\n",
       "    }\n",
       "\n",
       "    .dataframe thead th {\n",
       "        text-align: right;\n",
       "    }\n",
       "</style>\n",
       "<table border=\"1\" class=\"dataframe\">\n",
       "  <thead>\n",
       "    <tr style=\"text-align: right;\">\n",
       "      <th></th>\n",
       "      <th>1990</th>\n",
       "      <th>2011</th>\n",
       "      <th>BRICS</th>\n",
       "    </tr>\n",
       "    <tr>\n",
       "      <th>country</th>\n",
       "      <th></th>\n",
       "      <th></th>\n",
       "      <th></th>\n",
       "    </tr>\n",
       "  </thead>\n",
       "  <tbody>\n",
       "    <tr>\n",
       "      <th>Afghanistan</th>\n",
       "      <td>NaN</td>\n",
       "      <td>23.600</td>\n",
       "      <td>não</td>\n",
       "    </tr>\n",
       "    <tr>\n",
       "      <th>Albania</th>\n",
       "      <td>35.9</td>\n",
       "      <td>18.200</td>\n",
       "      <td>não</td>\n",
       "    </tr>\n",
       "    <tr>\n",
       "      <th>Algeria</th>\n",
       "      <td>10.4</td>\n",
       "      <td>8.110</td>\n",
       "      <td>não</td>\n",
       "    </tr>\n",
       "    <tr>\n",
       "      <th>Andorra</th>\n",
       "      <td>NaN</td>\n",
       "      <td>0.535</td>\n",
       "      <td>não</td>\n",
       "    </tr>\n",
       "    <tr>\n",
       "      <th>Angola</th>\n",
       "      <td>16.4</td>\n",
       "      <td>NaN</td>\n",
       "      <td>não</td>\n",
       "    </tr>\n",
       "  </tbody>\n",
       "</table>\n",
       "</div>"
      ],
      "text/plain": [
       "             1990    2011 BRICS\n",
       "country                        \n",
       "Afghanistan   NaN  23.600   não\n",
       "Albania      35.9  18.200   não\n",
       "Algeria      10.4   8.110   não\n",
       "Andorra       NaN   0.535   não\n",
       "Angola       16.4     NaN   não"
      ]
     },
     "execution_count": 6,
     "metadata": {},
     "output_type": "execute_result"
    }
   ],
   "source": [
    "\n",
    "for e in range(30):\n",
    "    agri_index = agri_index.drop(agri_index.columns[0], axis = 1)\n",
    "agri_index.head()\n",
    "\n",
    "for e in range(20):\n",
    "    agri_index = agri_index.drop(agri_index.columns[1], axis = 1)\n",
    "agri_index.head()\n",
    "\n",
    "for e in range(6):\n",
    "    agri_index = agri_index.drop(agri_index.columns[2], axis = 1)\n",
    "agri_certo = agri_index\n",
    "agri_certo.head()"
   ]
  },
  {
   "cell_type": "code",
   "execution_count": 15,
   "metadata": {},
   "outputs": [
    {
     "data": {
      "text/html": [
       "<div>\n",
       "<style scoped>\n",
       "    .dataframe tbody tr th:only-of-type {\n",
       "        vertical-align: middle;\n",
       "    }\n",
       "\n",
       "    .dataframe tbody tr th {\n",
       "        vertical-align: top;\n",
       "    }\n",
       "\n",
       "    .dataframe thead th {\n",
       "        text-align: right;\n",
       "    }\n",
       "</style>\n",
       "<table border=\"1\" class=\"dataframe\">\n",
       "  <thead>\n",
       "    <tr style=\"text-align: right;\">\n",
       "      <th></th>\n",
       "      <th>1990_agri</th>\n",
       "      <th>2011_agri</th>\n",
       "      <th>BRICS_agri</th>\n",
       "      <th>1990_mata</th>\n",
       "      <th>2011_mata</th>\n",
       "      <th>2015</th>\n",
       "      <th>BRICS_mata</th>\n",
       "    </tr>\n",
       "    <tr>\n",
       "      <th>country</th>\n",
       "      <th></th>\n",
       "      <th></th>\n",
       "      <th></th>\n",
       "      <th></th>\n",
       "      <th></th>\n",
       "      <th></th>\n",
       "      <th></th>\n",
       "    </tr>\n",
       "  </thead>\n",
       "  <tbody>\n",
       "    <tr>\n",
       "      <th>Afghanistan</th>\n",
       "      <td>NaN</td>\n",
       "      <td>23.600</td>\n",
       "      <td>não</td>\n",
       "      <td>2.07</td>\n",
       "      <td>2.07</td>\n",
       "      <td>2.07</td>\n",
       "      <td>não</td>\n",
       "    </tr>\n",
       "    <tr>\n",
       "      <th>Albania</th>\n",
       "      <td>35.9</td>\n",
       "      <td>18.200</td>\n",
       "      <td>não</td>\n",
       "      <td>28.80</td>\n",
       "      <td>28.30</td>\n",
       "      <td>28.20</td>\n",
       "      <td>não</td>\n",
       "    </tr>\n",
       "    <tr>\n",
       "      <th>Algeria</th>\n",
       "      <td>10.4</td>\n",
       "      <td>8.110</td>\n",
       "      <td>não</td>\n",
       "      <td>0.70</td>\n",
       "      <td>0.81</td>\n",
       "      <td>0.82</td>\n",
       "      <td>não</td>\n",
       "    </tr>\n",
       "    <tr>\n",
       "      <th>Andorra</th>\n",
       "      <td>NaN</td>\n",
       "      <td>0.535</td>\n",
       "      <td>não</td>\n",
       "      <td>34.00</td>\n",
       "      <td>34.00</td>\n",
       "      <td>34.00</td>\n",
       "      <td>não</td>\n",
       "    </tr>\n",
       "    <tr>\n",
       "      <th>Angola</th>\n",
       "      <td>16.4</td>\n",
       "      <td>NaN</td>\n",
       "      <td>não</td>\n",
       "      <td>48.90</td>\n",
       "      <td>46.80</td>\n",
       "      <td>46.40</td>\n",
       "      <td>não</td>\n",
       "    </tr>\n",
       "  </tbody>\n",
       "</table>\n",
       "</div>"
      ],
      "text/plain": [
       "             1990_agri  2011_agri BRICS_agri  1990_mata  2011_mata   2015  \\\n",
       "country                                                                     \n",
       "Afghanistan        NaN     23.600        não       2.07       2.07   2.07   \n",
       "Albania           35.9     18.200        não      28.80      28.30  28.20   \n",
       "Algeria           10.4      8.110        não       0.70       0.81   0.82   \n",
       "Andorra            NaN      0.535        não      34.00      34.00  34.00   \n",
       "Angola            16.4        NaN        não      48.90      46.80  46.40   \n",
       "\n",
       "            BRICS_mata  \n",
       "country                 \n",
       "Afghanistan        não  \n",
       "Albania            não  \n",
       "Algeria            não  \n",
       "Andorra            não  \n",
       "Angola             não  "
      ]
     },
     "execution_count": 15,
     "metadata": {},
     "output_type": "execute_result"
    }
   ],
   "source": [
    "dados = agri_certo.join(mata_certo, how='inner',lsuffix = '_agri', rsuffix ='_mata')\n",
    "dados.head()"
   ]
  },
  {
   "cell_type": "code",
   "execution_count": 17,
   "metadata": {},
   "outputs": [
    {
     "data": {
      "text/plain": [
       "Index([ '1990_agri',  '2011_agri', 'BRICS_agri',  '1990_mata',  '2011_mata',\n",
       "               2015, 'BRICS_mata',  'variacao1',  'variacao2'],\n",
       "      dtype='object')"
      ]
     },
     "execution_count": 17,
     "metadata": {},
     "output_type": "execute_result"
    }
   ],
   "source": [
    "dados['variacao1']= dados['2011_agri'] / dados['1990_agri']\n",
    "dados['variacao2']= dados['2011_mata'] / dados['1990_mata']\n",
    "dados.columns"
   ]
  },
  {
   "cell_type": "code",
   "execution_count": 19,
   "metadata": {},
   "outputs": [
    {
     "data": {
      "text/plain": [
       "<matplotlib.axes._subplots.AxesSubplot at 0x1ae75407048>"
      ]
     },
     "execution_count": 19,
     "metadata": {},
     "output_type": "execute_result"
    },
    {
     "data": {
      "image/png": "[encoded data removed]",
      "text/plain": [
       "<Figure size 432x288 with 1 Axes>"
      ]
     },
     "metadata": {
      "needs_background": "light"
     },
     "output_type": "display_data"
    },
    {
     "data": {
      "image/png": "[encoded data removed]",
      "text/plain": [
       "<Figure size 432x288 with 1 Axes>"
      ]
     },
     "metadata": {
      "needs_background": "light"
     },
     "output_type": "display_data"
    }
   ],
   "source": [
    "dados.boxplot(column='variacao1', by=\"BRICS_agri\")\n",
    "dados.boxplot(column='variacao2', by=\"BRICS_agri\")"
   ]
  },
  {
   "cell_type": "code",
   "execution_count": null,
   "metadata": {},
   "outputs": [],
   "source": []
  },
  {
   "cell_type": "code",
   "execution_count": null,
   "metadata": {},
   "outputs": [],
   "source": []
  }
 ],
 "metadata": {
  "kernelspec": {
   "display_name": "Python 3",
   "language": "python",
   "name": "python3"
  },
  "language_info": {
   "codemirror_mode": {
    "name": "ipython",
    "version": 3
   },
   "file_extension": ".py",
   "mimetype": "text/x-python",
   "name": "python",
   "nbconvert_exporter": "python",
   "pygments_lexer": "ipython3",
   "version": "3.7.1"
  }
 },
 "nbformat": 4,
 "nbformat_minor": 2
}
