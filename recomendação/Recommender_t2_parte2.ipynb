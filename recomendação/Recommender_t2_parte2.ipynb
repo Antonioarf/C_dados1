{
  "nbformat": 4,
  "nbformat_minor": 0,
  "metadata": {
    "colab": {
      "name": "Recommender_t2_parte2.ipynb",
      "provenance": [],
      "collapsed_sections": [],
      "authorship_tag": "ABX9TyPNjJrAWUu7Zi1KLCxLyY+B",
      "include_colab_link": true
    },
    "kernelspec": {
      "name": "python3",
      "display_name": "Python 3"
    }
  },
  "cells": [
    {
      "cell_type": "markdown",
      "metadata": {
        "id": "view-in-github",
        "colab_type": "text"
      },
      "source": [
        "<a href=\"https://colab.research.google.com/github/Antonioarf/C_dados1/blob/master/recomenda%C3%A7%C3%A3o/Recommender_t2_parte2.ipynb\" target=\"_parent\"><img src=\"https://colab.research.google.com/assets/colab-badge.svg\" alt=\"Open In Colab\"/></a>"
      ]
    },
    {
      "cell_type": "markdown",
      "metadata": {
        "id": "-bdsBphMVAYq",
        "colab_type": "text"
      },
      "source": [
        "## Arquivo com a recomendação propriamente dita\n"
      ]
    },
    {
      "cell_type": "markdown",
      "metadata": {
        "id": "1VQjbmOSWN_w",
        "colab_type": "text"
      },
      "source": [
        "#### ele puxa do drive os dois arquivos esportados pelo outro carquivo (atualmente nomeado reccomender_t2_parte1.pynb) e utlizando o comando decision_function do classificador SVC utilizado no outro arquivo gera uma recomendação de 3 novos Blox para o aluno baseado em suas escolhas passadas e similaridade com as escolhas de outros alunos "
      ]
    },
    {
      "cell_type": "code",
      "metadata": {
        "id": "Z3ZXYomd7PEr",
        "colab_type": "code",
        "colab": {}
      },
      "source": [
        "import heapq\n",
        "import random\n",
        "import pandas as pd\n",
        "from pydrive.auth import GoogleAuth\n",
        "from pydrive.drive import GoogleDrive \n",
        "from google.colab import auth \n",
        "from oauth2client.client import GoogleCredentials\n",
        "from google.colab import drive\n",
        "import torch\n",
        "df5 = pd.read_csv(\"https://github.com/Antonioarf/blox/blob/master/recomenda%C3%A7%C3%A3o/df_1_spaiens.csv?raw=true\")"
      ],
      "execution_count": 0,
      "outputs": []
    },
    {
      "cell_type": "markdown",
      "metadata": {
        "id": "Qe3tx3DQk4zX",
        "colab_type": "text"
      },
      "source": [
        "## Reabrindo o modelo"
      ]
    },
    {
      "cell_type": "code",
      "metadata": {
        "id": "p7FjkW0o8I0T",
        "colab_type": "code",
        "colab": {
          "base_uri": "https://localhost:8080/",
          "height": 34
        },
        "outputId": "68ae50ff-8ac3-490e-a29c-7e8ecd865f0e"
      },
      "source": [
        "from google.colab import drive\n",
        "drive.mount('/content/gdrive')"
      ],
      "execution_count": 2,
      "outputs": [
        {
          "output_type": "stream",
          "text": [
            "Drive already mounted at /content/gdrive; to attempt to forcibly remount, call drive.mount(\"/content/gdrive\", force_remount=True).\n"
          ],
          "name": "stdout"
        }
      ]
    },
    {
      "cell_type": "code",
      "metadata": {
        "id": "BWOSAXH9hquQ",
        "colab_type": "code",
        "colab": {}
      },
      "source": [
        "model_save_name = 'recomender.pt'\n",
        "path = F\"/content/gdrive/My Drive/{model_save_name}\"\n",
        "modelo = torch.load(path)"
      ],
      "execution_count": 0,
      "outputs": []
    },
    {
      "cell_type": "code",
      "metadata": {
        "id": "JlAUH-5o-Tv4",
        "colab_type": "code",
        "colab": {}
      },
      "source": [
        "model_save_name = 'teste.csv'\n",
        "path = F\"/content/gdrive/My Drive/{model_save_name}\"\n",
        "test = torch.load(path)\n",
        "X_test = test[0]\n",
        "lis = test[1]"
      ],
      "execution_count": 0,
      "outputs": []
    },
    {
      "cell_type": "markdown",
      "metadata": {
        "id": "_um8kiE_pTnd",
        "colab_type": "text"
      },
      "source": [
        "## Contrução da recomendação"
      ]
    },
    {
      "cell_type": "code",
      "metadata": {
        "id": "1uzagytIzP6z",
        "colab_type": "code",
        "colab": {}
      },
      "source": [
        "def sugestao(rdm,X):\n",
        "    X = X.drop_duplicates(keep ='first') \n",
        "    j = rdm.decision_function(X)\n",
        "    lista = list (X.index)\n",
        "    sugest = [list(set(list([lis[n] for n in heapq.nlargest(3, range(len(e)), e.take)])) - set(list(df5.loc[df5['nome_do_aluno'] == lista[t]][\"nome_blox\"]))) for e,t in zip (j, range(len (j)-1))]\n",
        "    return sugest"
      ],
      "execution_count": 0,
      "outputs": []
    },
    {
      "cell_type": "code",
      "metadata": {
        "id": "cald4oyOimYr",
        "colab_type": "code",
        "colab": {}
      },
      "source": [
        "deu = sugestao(modelo,X_test)"
      ],
      "execution_count": 0,
      "outputs": []
    },
    {
      "cell_type": "code",
      "metadata": {
        "id": "fCSmPPq-90TR",
        "colab_type": "code",
        "outputId": "53fda766-a557-4f3d-e7d0-43035dddc2a4",
        "colab": {
          "base_uri": "https://localhost:8080/",
          "height": 154
        }
      },
      "source": [
        "lista = list (X_test.drop_duplicates(keep ='first').index)\n",
        "x =  random.randint(0,len(lista))\n",
        "print(x)\n",
        "print (list(df5.loc[df5['nome_do_aluno'] == lista[x]][\"nome_blox\"]))\n",
        "print (\"\\n\")\n",
        "for e in deu[x]:\n",
        "  print (e)"
      ],
      "execution_count": 7,
      "outputs": [
        {
          "output_type": "stream",
          "text": [
            "45\n",
            "['Desmistificando a Gestão da Tecnologia da Informação', 'REDAÇÃO NOTA MIL- Saiba como escrever e se dar bem.', 'LOGÍSTICA DE A a Z', 'Calculando minhas probabilidades de ganhar sempre', 'Equações Diferenciais Ordinárias', 'Gestão de TI: NERD ou CEO?', 'Conversando com os Dados', 'EAD - Saneamento Ambiental', 'Integrando as diferenças', 'Amante da Sabedoria', 'Engenheiro 7.0', 'Administrando Produção e Materiais', 'O Labirinto das Obras Públicas', 'Ser ou Não Ser? De Risc a PC', 'AQUILO QUE PERTENCE AO CARÁTER - ÉTICA', 'Desenvolvendo Competências do Engenheiro', 'CLUBE DA MATEMÁTICA', 'A Jogatina das Décadas', 'De Eniac a SuperComputador', 'METODOLOGIA DESCOMPLICADA', 'O \"Como\" e o \"Por que\" dos Materiais', 'Redes for dummies: superando limites', 'Guerra dos mundos', 'Dominando o Mundo com a Lógica', 'MEU PROJETO DE VIDA: PLANEJAMENTO/ELABORAÇÃO/ANÁLISE', 'A MATEMÁTICA DAS PIRÂMIDES DO EGITO', 'SEJA O LÍDER QUE TODOS QUEREM TER!', 'Engenharia: Profissão de Transformação', 'DESENHO TÉCNICO PARA ENGENHEIROS', 'O lado oculto e inesperado de tudo que nos afeta', 'LÓGICA COMPUTACIONAL O PRINCÍPIO DE TUDO', 'Enigma Matemático', 'Dos Materiais, um curso.', 'AUTOCAD PARA PRINCIPIANTES']\n",
            "\n",
            "\n",
            "Sistemas Para Decisão\n",
            "RECURSOS HUMANOS EM INFORMÁTICA\n",
            "Começando a Trabalhar com Banco de dados\n"
          ],
          "name": "stdout"
        }
      ]
    },
    {
      "cell_type": "code",
      "metadata": {
        "id": "-C7z61iUOwjU",
        "colab_type": "code",
        "colab": {}
      },
      "source": [
        ""
      ],
      "execution_count": 0,
      "outputs": []
    }
  ]
}